{
 "cells": [
  {
   "cell_type": "code",
   "execution_count": 8,
   "metadata": {
    "collapsed": false
   },
   "outputs": [
    {
     "name": "stdout",
     "output_type": "stream",
     "text": [
      "Populating the interactive namespace from numpy and matplotlib\n"
     ]
    }
   ],
   "source": [
    "%pylab inline\n",
    "import pysd\n",
    "import numpy as np\n",
    "import pandas as pd"
   ]
  },
  {
   "cell_type": "code",
   "execution_count": 72,
   "metadata": {
    "collapsed": false
   },
   "outputs": [],
   "source": [
    "model = pysd.read_vensim('bass_diffusion.mdl')\n",
    "model.doc()\n",
    "\n",
    "total_potential = model.components.potential_adopters_p()"
   ]
  },
  {
   "cell_type": "markdown",
   "metadata": {},
   "source": [
    "### Timeseries behavior\n",
    "\n",
    "We expect the model to exhibit S-shaped growth whenever the word of mouth loop is active."
   ]
  },
  {
   "cell_type": "markdown",
   "metadata": {},
   "source": [
    "If the initial `adopter` population is large, the S-shaped growth may initialize in the second half of the curve, and look just like exponential growth to the asymtote"
   ]
  },
  {
   "cell_type": "markdown",
   "metadata": {},
   "source": [
    "When WOM is not active, but advertising is, we expect exponential growth to an asymtote."
   ]
  },
  {
   "cell_type": "markdown",
   "metadata": {},
   "source": [
    "### Phase plane\n",
    "\n",
    "With no advertising, when the fraction having adopted is zero or one, we expect the adoption rate to be zero. We expect it to be greatest when the number of interactions between adopters and non-adopters is greatest, the product of the two values. This will create an inverted parabola."
   ]
  },
  {
   "cell_type": "code",
   "execution_count": 73,
   "metadata": {
    "collapsed": false
   },
   "outputs": [
    {
     "data": {
      "image/png": "[encoded data removed]",
      "text/plain": [
       "<matplotlib.figure.Figure at 0x114541320>"
      ]
     },
     "metadata": {},
     "output_type": "display_data"
    }
   ],
   "source": [
    "model.set_components({'Advertising Effectiveness a':0})\n",
    "\n",
    "collector = []\n",
    "for f_adopt in np.arange(0,1.01,.025):\n",
    "    model.set_initial_condition((0, {'Adopters A': f_adopt*total_potential, \n",
    "                                     'Potential Adopters P': (1-f_adopt)*total_potential}))\n",
    "    collector.append({'Fraction Having Adopted': f_adopt, 'Adoption Rate': model.components.adoption_rate_ar()})\n",
    "    \n",
    "result = pd.DataFrame(collector)\n",
    "result.set_index('Fraction Having Adopted', inplace=True)\n",
    "result.plot(fontsize=16, legend=False, linewidth=0, marker='o')\n",
    "plt.yticks([])\n",
    "plt.xticks([0, .25, .5, .75, 1])\n",
    "plt.xlabel('Fraction Having Adopted', fontsize=16)\n",
    "plt.ylabel('Adoption Rate', fontsize=16)\n",
    "plt.grid('on')\n",
    "plt.ylim(0, 35)\n",
    "plt.savefig('Phase_Plane_noad.png')"
   ]
  },
  {
   "cell_type": "code",
   "execution_count": 77,
   "metadata": {
    "collapsed": false
   },
   "outputs": [
    {
     "data": {
      "image/png": "[encoded data removed]",
      "text/plain": [
       "<matplotlib.figure.Figure at 0x114680358>"
      ]
     },
     "metadata": {},
     "output_type": "display_data"
    }
   ],
   "source": [
    "model.set_components({'Advertising Effectiveness a':0.05})\n",
    "\n",
    "collector = []\n",
    "for f_adopt in np.arange(0,1.01,.025):\n",
    "    model.set_initial_condition((0, {'Adopters A': f_adopt*total_potential, \n",
    "                                     'Potential Adopters P': (1-f_adopt)*total_potential}))\n",
    "    collector.append({'Fraction Having Adopted': f_adopt, 'Adoption Rate': model.components.adoption_rate_ar()})\n",
    "    \n",
    "result = pd.DataFrame(collector)\n",
    "result.set_index('Fraction Having Adopted', inplace=True)\n",
    "result.plot(fontsize=16, legend=False, linewidth=0, marker='o')\n",
    "plt.yticks([])\n",
    "plt.xticks([0, .25, .5, .75, 1])\n",
    "plt.xlabel('Fraction Having Adopted', fontsize=16)\n",
    "plt.ylabel('Adoption Rate', fontsize=16)\n",
    "plt.grid('on')\n",
    "#plt.ylim(0, 35)\n",
    "plt.savefig('Phase_Plane_noad.png')"
   ]
  },
  {
   "cell_type": "code",
   "execution_count": null,
   "metadata": {
    "collapsed": true
   },
   "outputs": [],
   "source": []
  }
 ],
 "metadata": {
  "kernelspec": {
   "display_name": "Python 3",
   "language": "python",
   "name": "python3"
  },
  "language_info": {
   "codemirror_mode": {
    "name": "ipython",
    "version": 3
   },
   "file_extension": ".py",
   "mimetype": "text/x-python",
   "name": "python",
   "nbconvert_exporter": "python",
   "pygments_lexer": "ipython3",
   "version": "3.6.0"
  }
 },
 "nbformat": 4,
 "nbformat_minor": 2
}
