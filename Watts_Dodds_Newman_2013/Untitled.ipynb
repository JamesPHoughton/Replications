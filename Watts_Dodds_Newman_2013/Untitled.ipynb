{
 "cells": [
  {
   "cell_type": "code",
   "execution_count": 1,
   "metadata": {
    "collapsed": false
   },
   "outputs": [
    {
     "name": "stdout",
     "output_type": "stream",
     "text": [
      "Populating the interactive namespace from numpy and matplotlib\n"
     ]
    }
   ],
   "source": [
    "%pylab inline\n",
    "import networkx as nx"
   ]
  },
  {
   "cell_type": "code",
   "execution_count": 40,
   "metadata": {
    "collapsed": false
   },
   "outputs": [],
   "source": [
    "group_size = 100  # called 'g'\n",
    "levels_in_hierarchy = 4  # called 'l'\n",
    "branching_ratio = 2  # called 'b'\n",
    "number_of_hierarchies = 4  # called 'H'\n",
    "message_failure_probability = .25  # called 'p'\n",
    "\n",
    "\n",
    "number_of_groups = branching_ratio**levels_in_hierarchy\n",
    "number_of_agents = number_of_groups*group_size\n",
    "\n",
    "hierarchies = [nx.balanced_tree(branching_ratio, levels_in_hierarchy) for _ in range(number_of_hierarchies)]\n",
    "agent_names = np.arange(number_of_agents)\n",
    "for tree in hierarchies:\n",
    "    np.random.shuffle(agent_names)\n",
    "    breaks = np.arange(0,number_of_agents,100)\n",
    "    groups = [a[i:j] for i,j in zip(breaks[:-1], breaks[1:])]\n",
    "    for node, group in zip(leaves(tree), groups):\n",
    "        tree.node[node]['members'] = group\n",
    "\n",
    "# making hierarchies distinct so that in the future, we can test robustness of the \n",
    "# conclusions to changes in hierarchy structure"
   ]
  },
  {
   "cell_type": "code",
   "execution_count": 8,
   "metadata": {
    "collapsed": false
   },
   "outputs": [],
   "source": [
    "class Agent(object):\n",
    "    def __init__(name, social_network):\n",
    "        \"\"\"\n",
    "        \n",
    "        characteristics : array\n",
    "            Individuals in social networks are endowed not only with network ties, \n",
    "            but identities: sets of characteristics attributed to them by themselves \n",
    "            and others by virtue of their association with, and participation in, \n",
    "            social groups\n",
    "        \n",
    "        \"\"\"\n",
    "        self.name = name\n",
    "        self.social_network = social_network\n",
    "        "
   ]
  },
  {
   "cell_type": "code",
   "execution_count": null,
   "metadata": {
    "collapsed": true
   },
   "outputs": [],
   "source": [
    "agents = []\n",
    "social_network = nx.Graph()  # mutable, so we can add the connections after defining the agents.\n",
    "for i in range():\n",
    "    agents.append(Agent(i, social_network, \n",
    "                        [np.random.choice]))"
   ]
  },
  {
   "cell_type": "code",
   "execution_count": 10,
   "metadata": {
    "collapsed": false
   },
   "outputs": [
    {
     "data": {
      "image/png": "[encoded data removed]",
      "text/plain": [
       "<matplotlib.figure.Figure at 0x10f2bc828>"
      ]
     },
     "metadata": {},
     "output_type": "display_data"
    }
   ],
   "source": [
    "g = nx.balanced_tree(branching_ratio, levels_in_hierarchy)\n",
    "nx.draw_networkx(g, with_labels=True)"
   ]
  },
  {
   "cell_type": "code",
   "execution_count": 13,
   "metadata": {
    "collapsed": true
   },
   "outputs": [],
   "source": [
    "def leaves(g):\n",
    "    return [node for node in g.nodes() if g.degree(node)==1]"
   ]
  },
  {
   "cell_type": "code",
   "execution_count": 17,
   "metadata": {
    "collapsed": true
   },
   "outputs": [],
   "source": [
    "def normalize(array):\n",
    "    return array/sum(array)"
   ]
  },
  {
   "cell_type": "code",
   "execution_count": 14,
   "metadata": {
    "collapsed": false
   },
   "outputs": [
    {
     "data": {
      "text/plain": [
       "[15, 16, 17, 18, 19, 20, 21, 22, 23, 24, 25, 26, 27, 28, 29, 30]"
      ]
     },
     "execution_count": 14,
     "metadata": {},
     "output_type": "execute_result"
    }
   ],
   "source": [
    "leaves(g)"
   ]
  },
  {
   "cell_type": "code",
   "execution_count": 19,
   "metadata": {
    "collapsed": false
   },
   "outputs": [
    {
     "data": {
      "text/plain": [
       "2"
      ]
     },
     "execution_count": 19,
     "metadata": {},
     "output_type": "execute_result"
    }
   ],
   "source": [
    "np.random.choice([1,2], p=normalize([1, 1]))"
   ]
  },
  {
   "cell_type": "code",
   "execution_count": null,
   "metadata": {
    "collapsed": true
   },
   "outputs": [],
   "source": []
  }
 ],
 "metadata": {
  "kernelspec": {
   "display_name": "Python 3",
   "language": "python",
   "name": "python3"
  },
  "language_info": {
   "codemirror_mode": {
    "name": "ipython",
    "version": 3
   },
   "file_extension": ".py",
   "mimetype": "text/x-python",
   "name": "python",
   "nbconvert_exporter": "python",
   "pygments_lexer": "ipython3",
   "version": "3.6.0"
  }
 },
 "nbformat": 4,
 "nbformat_minor": 2
}
